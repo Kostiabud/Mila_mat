{
  "nbformat": 4,
  "nbformat_minor": 0,
  "metadata": {
    "colab": {
      "provenance": [],
      "authorship_tag": "ABX9TyOn7q6+m6AdDqUKq4juwjDn",
      "include_colab_link": true
    },
    "kernelspec": {
      "name": "python3",
      "display_name": "Python 3"
    },
    "language_info": {
      "name": "python"
    }
  },
  "cells": [
    {
      "cell_type": "markdown",
      "metadata": {
        "id": "view-in-github",
        "colab_type": "text"
      },
      "source": [
        "<a href=\"https://colab.research.google.com/github/Kostiabud/Mila_mat/blob/main/mila_primerov_52.ipynb\" target=\"_parent\"><img src=\"https://colab.research.google.com/assets/colab-badge.svg\" alt=\"Open In Colab\"/></a>"
      ]
    },
    {
      "cell_type": "code",
      "execution_count": null,
      "metadata": {
        "id": "DlqDmy7i_tBC"
      },
      "outputs": [],
      "source": [
        "import random\n",
        "a=1\n",
        "\n",
        "while a<=52:\n",
        "\n",
        "\tb=random.randint(11,18)\n",
        "\tc=random.randint(6,9)\n",
        "\td=b+c\n",
        "\tprint(b,\"+\",c,'= ')\n",
        "\tans=int(input(\"введите сумму: \"))\n",
        "\tif ans==d:\n",
        "\t\tprint()\n",
        "\t\tprint('ты молодец, верный ответ!')\n",
        "\t\tprint(b,\"+\",c, \"=\", d)\n",
        "\t\tprint('следующий пример')\n",
        "\t\tprint()\n",
        "\telse:\n",
        "\t\tprint('неверно')\n",
        "\ta+=1"
      ]
    }
  ]
}